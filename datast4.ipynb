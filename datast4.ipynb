{
  "nbformat": 4,
  "nbformat_minor": 0,
  "metadata": {
    "colab": {
      "provenance": [],
      "authorship_tag": "ABX9TyPh99+BjbWSAAgONGg753Wp",
      "include_colab_link": true
    },
    "kernelspec": {
      "name": "python3",
      "display_name": "Python 3"
    },
    "language_info": {
      "name": "python"
    }
  },
  "cells": [
    {
      "cell_type": "markdown",
      "metadata": {
        "id": "view-in-github",
        "colab_type": "text"
      },
      "source": [
        "<a href=\"https://colab.research.google.com/github/Swagaat/Dataa4/blob/main/datast4.ipynb\" target=\"_parent\"><img src=\"https://colab.research.google.com/assets/colab-badge.svg\" alt=\"Open In Colab\"/></a>"
      ]
    },
    {
      "cell_type": "code",
      "source": [
        "#Solution-1\n",
        "class Node:\n",
        "    def __init__(self, val=None):\n",
        "        self.val = val\n",
        "        self.next = None\n",
        "\n",
        "def insertElem(head, index, elem):\n",
        "    new_node = Node(elem)\n",
        "    if index == 0:\n",
        "        new_node.next = head\n",
        "        return new_node\n",
        "    prev = None\n",
        "    cur = head\n",
        "    i = 0\n",
        "    while cur and i < index:\n",
        "        prev = cur\n",
        "        cur = cur.next\n",
        "        i += 1\n",
        "    if i == index:\n",
        "        prev.next = new_node\n",
        "        new_node.next = cur\n",
        "    return head\n",
        "# create the linked list\n",
        "head = Node('S')\n",
        "head.next = Node('t')\n",
        "head.next.next = Node('i')\n",
        "head.next.next.next = Node('n')\n",
        "head.next.next.next.next = Node('g')\n",
        "\n",
        "# print the original linked list\n",
        "cur = head\n",
        "while cur:\n",
        "    print(cur.val, end='->')\n",
        "    cur = cur.next\n",
        "print('None')\n",
        "\n",
        "# insert a new node with value 'r' at index 3\n",
        "head = insertElem(head, 3, 'r')\n",
        "\n",
        "# print the updated linked list\n",
        "cur = head\n",
        "while cur:\n",
        "    print(cur.val, end='->')\n",
        "    cur = cur.next\n",
        "print('None')\n"
      ],
      "metadata": {
        "colab": {
          "base_uri": "https://localhost:8080/"
        },
        "id": "o-gbCKiAY6Ni",
        "outputId": "e70afc01-ed16-4a06-d555-062b6ba3013e"
      },
      "execution_count": 20,
      "outputs": [
        {
          "output_type": "stream",
          "name": "stdout",
          "text": [
            "S->t->i->n->g->None\n",
            "S->t->i->r->n->g->None\n"
          ]
        }
      ]
    },
    {
      "cell_type": "code",
      "source": [
        "#solution-2\n",
        "class Node:\n",
        "    def __init__(self, data, idx):\n",
        "        self.data = data\n",
        "        self.idx = idx\n",
        "        self.next = None\n",
        "\n",
        "def convertList(lst):\n",
        "    new_lst = Node(\"Head\", 1)\n",
        "    current_node = new_lst\n",
        "    for node in lst[1:]:\n",
        "        data = \"\"\n",
        "        if node < 1 or node > 26:\n",
        "            data = \"#\"\n",
        "        else:\n",
        "            data = chr(node + 64)\n",
        "        new_node = Node(data, node)\n",
        "        current_node.next = new_node\n",
        "        current_node = new_node\n",
        "    return new_lst\n",
        "\n",
        "lst0 = [0, 1, 2, 2, 1]\n",
        "lst1 = [0, 12, 2, 1]\n",
        "lst2 = [0, 1, 22, 1]\n",
        "lst3 = [0, 1, 2, 21]\n",
        "\n",
        "new_lst0 = convertList(lst0)\n",
        "new_lst1 = convertList(lst1)\n",
        "new_lst2 = convertList(lst2)\n",
        "new_lst3 = convertList(lst3)\n",
        "\n",
        "# Iterate over the linked list to print its contents\n",
        "current_node = new_lst0\n",
        "while current_node is not None:\n",
        "    print(current_node.data, end=' -> ')\n",
        "    current_node = current_node.next\n",
        "print(\"None\")\n",
        "\n",
        "current_node = new_lst1\n",
        "while current_node is not None:\n",
        "    print(current_node.data, end=' -> ')\n",
        "    current_node = current_node.next\n",
        "print(\"None\")\n",
        "\n",
        "current_node = new_lst2\n",
        "while current_node is not None:\n",
        "    print(current_node.data, end=' -> ')\n",
        "    current_node = current_node.next\n",
        "print(\"None\")\n",
        "\n",
        "current_node = new_lst3\n",
        "while current_node is not None:\n",
        "    print(current_node.data, end=' -> ')\n",
        "    current_node = current_node.next\n",
        "print(\"None\")\n"
      ],
      "metadata": {
        "colab": {
          "base_uri": "https://localhost:8080/"
        },
        "id": "r0nqjnyJokcz",
        "outputId": "e71fa2aa-be55-4e60-9936-73793c414a0d"
      },
      "execution_count": null,
      "outputs": [
        {
          "output_type": "stream",
          "name": "stdout",
          "text": [
            "Head -> A -> B -> B -> A -> None\n",
            "Head -> L -> B -> A -> None\n",
            "Head -> A -> V -> A -> None\n",
            "Head -> A -> B -> U -> None\n"
          ]
        }
      ]
    },
    {
      "cell_type": "code",
      "source": [
        "#solution-3\n",
        "def find_partitions(arr):\n",
        "    total_sum = sum(arr)\n",
        "    if total_sum % 2 != 0:\n",
        "        return \"Cannot be partitioned into two subsets with equal sum\"\n",
        "    target_sum = total_sum // 2\n",
        "    n = len(arr)\n",
        "    dp = [[False] * (target_sum + 1) for _ in range(n + 1)]\n",
        "    for i in range(n + 1):\n",
        "        dp[i][0] = True\n",
        "    for i in range(1, n + 1):\n",
        "        for j in range(1, target_sum + 1):\n",
        "            if j < arr[i - 1]:\n",
        "                dp[i][j] = dp[i - 1][j]\n",
        "            else:\n",
        "                dp[i][j] = dp[i - 1][j] or dp[i - 1][j - arr[i - 1]]\n",
        "    if not dp[n][target_sum]:\n",
        "        return \"Cannot be partitioned into two subsets with equal sum\"\n",
        "    ls1 = []\n",
        "    i, j = n, target_sum\n",
        "    while j > 0:\n",
        "        if dp[i - 1][j]:\n",
        "            i -= 1\n",
        "        else:\n",
        "            ls1.append(arr[i - 1])\n",
        "            j -= arr[i - 1]\n",
        "            i -= 1\n",
        "    ls2 = [x for x in arr if x not in ls1]\n",
        "    return ls1, ls2\n",
        "arr = [1, 3, 2, 1, 2, 1]\n",
        "result = find_partitions(arr)\n",
        "print(result)\n"
      ],
      "metadata": {
        "colab": {
          "base_uri": "https://localhost:8080/"
        },
        "id": "ZB0fRMbO5Jvk",
        "outputId": "2adf2a43-3988-4616-d5cf-4fc5c7642796"
      },
      "execution_count": null,
      "outputs": [
        {
          "output_type": "stream",
          "name": "stdout",
          "text": [
            "([2, 3], [1, 1, 1])\n"
          ]
        }
      ]
    },
    {
      "cell_type": "code",
      "source": [
        "#Solution-4\n",
        "def max_expression_value(a):\n",
        "    n = len(a)\n",
        "    sorted_a = sorted(a)\n",
        "    max_value = float('-inf')\n",
        "    for u in range(n):\n",
        "        for v in range(u):\n",
        "            for w in range(v):\n",
        "                for x in range(w):\n",
        "                    expression_value = sorted_a[u] - sorted_a[v] + sorted_a[w] - sorted_a[x]\n",
        "                    if expression_value > max_value:\n",
        "                        max_value = expression_value\n",
        "    return max_value\n",
        "\n",
        "# Example usage:\n",
        "a = [3, 9, 10, 1, 30, 40]\n",
        "max_value = max_expression_value(a)\n",
        "print(max_value)\n"
      ],
      "metadata": {
        "id": "OeD37Iso9FuG",
        "colab": {
          "base_uri": "https://localhost:8080/"
        },
        "outputId": "8a30657f-ea18-4891-9e1b-fd0544a076e1"
      },
      "execution_count": 8,
      "outputs": [
        {
          "output_type": "stream",
          "name": "stdout",
          "text": [
            "38\n"
          ]
        }
      ]
    },
    {
      "cell_type": "code",
      "source": [
        "#Solution-5\n",
        "def find_sequences(n):\n",
        "    elements = [i for i in range(1, n+1)] * 2\n",
        "    sequences = []\n",
        "    for i in range(n):\n",
        "        for j in range(i+1, i+n):\n",
        "            if elements[j] - elements[i] == j - i:\n",
        "                sequence = elements[i:j+1]\n",
        "                if sequence not in sequences:\n",
        "                    sequences.append(sequence)\n",
        "    return sequences\n",
        "\n",
        "# Example usage:\n",
        "n = 4\n",
        "sequences = find_sequences(n)\n",
        "for seq in sequences:\n",
        "    print(seq)\n"
      ],
      "metadata": {
        "id": "nbuQBFhuLGNQ"
      },
      "execution_count": null,
      "outputs": []
    }
  ]
}