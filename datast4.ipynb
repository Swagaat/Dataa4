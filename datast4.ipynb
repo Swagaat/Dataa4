{
  "nbformat": 4,
  "nbformat_minor": 0,
  "metadata": {
    "colab": {
      "provenance": [],
      "authorship_tag": "ABX9TyM/QEv547VE0YM0RBLfxP3+",
      "include_colab_link": true
    },
    "kernelspec": {
      "name": "python3",
      "display_name": "Python 3"
    },
    "language_info": {
      "name": "python"
    }
  },
  "cells": [
    {
      "cell_type": "markdown",
      "metadata": {
        "id": "view-in-github",
        "colab_type": "text"
      },
      "source": [
        "<a href=\"https://colab.research.google.com/github/Swagaat/Dataa4/blob/main/datast4.ipynb\" target=\"_parent\"><img src=\"https://colab.research.google.com/assets/colab-badge.svg\" alt=\"Open In Colab\"/></a>"
      ]
    },
    {
      "cell_type": "code",
      "execution_count": 6,
      "metadata": {
        "id": "vYHBCl8W-885",
        "colab": {
          "base_uri": "https://localhost:8080/"
        },
        "outputId": "f81c0e45-0d35-4266-f58d-b7841e47377d"
      },
      "outputs": [
        {
          "output_type": "stream",
          "name": "stdout",
          "text": [
            "['Head', 'S', 't', 'i', 'n', 'g']\n",
            "['Head', 'S', 't', 'r', 'i', 'n', 'g']\n"
          ]
        }
      ],
      "source": [
        "#solution-1\n",
        "import numpy as np\n",
        "\n",
        "class Node:\n",
        "    def __init__(self, data, idx):\n",
        "        self.data = data\n",
        "        self.idx = idx\n",
        "\n",
        "def insertElem(ls, idx, char):\n",
        "    new_node = Node(char, None)\n",
        "    prev_node = ls[idx-1]\n",
        "    next_node = ls[idx]\n",
        "    new_node.idx = next_node.idx\n",
        "    next_node.idx = len(ls)\n",
        "    prev_node.idx = len(ls)\n",
        "    ls = np.insert(ls, idx, new_node)\n",
        "    for i, node in enumerate(ls):\n",
        "        node.idx = i+1\n",
        "    return ls\n",
        "elm0 = Node(\"Head\", 1)\n",
        "elm1 = Node(\"S\", 2)\n",
        "elm2 = Node(\"t\", 3)\n",
        "elm3 = Node(\"i\", 4)\n",
        "elm4 = Node(\"n\", 5)\n",
        "elm5 = Node(\"g\", None)\n",
        "ls = np.array([elm0, elm1, elm2, elm3, elm4, elm5])\n",
        "\n",
        "print([node.data for node in ls])\n",
        "# Output: ['Head', 'S', 't', 'i', 'n', 'g']\n",
        "\n",
        "ls = insertElem(ls, 3, 'r')\n",
        "print([node.data for node in ls])\n",
        "# Output: ['Head', 'S', 't', 'r', 'i', 'n', 'g']\n"
      ]
    },
    {
      "cell_type": "code",
      "source": [
        "#solution-2\n",
        "class Node:\n",
        "    def __init__(self, data, idx):\n",
        "        self.data = data\n",
        "        self.idx = idx\n",
        "        self.next = None\n",
        "\n",
        "def convertList(lst):\n",
        "    new_lst = Node(\"Head\", 1)\n",
        "    current_node = new_lst\n",
        "    for node in lst[1:]:\n",
        "        data = \"\"\n",
        "        if node < 1 or node > 26:\n",
        "            data = \"#\"\n",
        "        else:\n",
        "            data = chr(node + 64)\n",
        "        new_node = Node(data, node)\n",
        "        current_node.next = new_node\n",
        "        current_node = new_node\n",
        "    return new_lst\n",
        "\n",
        "lst0 = [0, 1, 2, 2, 1]\n",
        "lst1 = [0, 12, 2, 1]\n",
        "lst2 = [0, 1, 22, 1]\n",
        "lst3 = [0, 1, 2, 21]\n",
        "\n",
        "new_lst0 = convertList(lst0)\n",
        "new_lst1 = convertList(lst1)\n",
        "new_lst2 = convertList(lst2)\n",
        "new_lst3 = convertList(lst3)\n",
        "\n",
        "# Iterate over the linked list to print its contents\n",
        "current_node = new_lst0\n",
        "while current_node is not None:\n",
        "    print(current_node.data, end=' -> ')\n",
        "    current_node = current_node.next\n",
        "print(\"None\")\n",
        "\n",
        "current_node = new_lst1\n",
        "while current_node is not None:\n",
        "    print(current_node.data, end=' -> ')\n",
        "    current_node = current_node.next\n",
        "print(\"None\")\n",
        "\n",
        "current_node = new_lst2\n",
        "while current_node is not None:\n",
        "    print(current_node.data, end=' -> ')\n",
        "    current_node = current_node.next\n",
        "print(\"None\")\n",
        "\n",
        "current_node = new_lst3\n",
        "while current_node is not None:\n",
        "    print(current_node.data, end=' -> ')\n",
        "    current_node = current_node.next\n",
        "print(\"None\")\n"
      ],
      "metadata": {
        "colab": {
          "base_uri": "https://localhost:8080/"
        },
        "id": "r0nqjnyJokcz",
        "outputId": "e71fa2aa-be55-4e60-9936-73793c414a0d"
      },
      "execution_count": 9,
      "outputs": [
        {
          "output_type": "stream",
          "name": "stdout",
          "text": [
            "Head -> A -> B -> B -> A -> None\n",
            "Head -> L -> B -> A -> None\n",
            "Head -> A -> V -> A -> None\n",
            "Head -> A -> B -> U -> None\n"
          ]
        }
      ]
    },
    {
      "cell_type": "code",
      "source": [
        "#solution-3\n",
        "def find_partitions(arr):\n",
        "    total_sum = sum(arr)\n",
        "    if total_sum % 2 != 0:\n",
        "        return \"Cannot be partitioned into two subsets with equal sum\"\n",
        "    target_sum = total_sum // 2\n",
        "    n = len(arr)\n",
        "    dp = [[False] * (target_sum + 1) for _ in range(n + 1)]\n",
        "    for i in range(n + 1):\n",
        "        dp[i][0] = True\n",
        "    for i in range(1, n + 1):\n",
        "        for j in range(1, target_sum + 1):\n",
        "            if j < arr[i - 1]:\n",
        "                dp[i][j] = dp[i - 1][j]\n",
        "            else:\n",
        "                dp[i][j] = dp[i - 1][j] or dp[i - 1][j - arr[i - 1]]\n",
        "    if not dp[n][target_sum]:\n",
        "        return \"Cannot be partitioned into two subsets with equal sum\"\n",
        "    ls1 = []\n",
        "    i, j = n, target_sum\n",
        "    while j > 0:\n",
        "        if dp[i - 1][j]:\n",
        "            i -= 1\n",
        "        else:\n",
        "            ls1.append(arr[i - 1])\n",
        "            j -= arr[i - 1]\n",
        "            i -= 1\n",
        "    ls2 = [x for x in arr if x not in ls1]\n",
        "    return ls1, ls2\n",
        "arr = [1, 3, 2, 1, 2, 1]\n",
        "result = find_partitions(arr)\n",
        "print(result)\n"
      ],
      "metadata": {
        "colab": {
          "base_uri": "https://localhost:8080/"
        },
        "id": "ZB0fRMbO5Jvk",
        "outputId": "2adf2a43-3988-4616-d5cf-4fc5c7642796"
      },
      "execution_count": 25,
      "outputs": [
        {
          "output_type": "stream",
          "name": "stdout",
          "text": [
            "([2, 3], [1, 1, 1])\n"
          ]
        }
      ]
    },
    {
      "cell_type": "code",
      "source": [
        "#Solution-4\n",
        "\n"
      ],
      "metadata": {
        "id": "OeD37Iso9FuG"
      },
      "execution_count": null,
      "outputs": []
    }
  ]
}